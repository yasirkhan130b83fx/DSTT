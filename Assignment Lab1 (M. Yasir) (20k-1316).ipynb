{
 "cells": [
  {
   "cell_type": "code",
   "execution_count": 4,
   "metadata": {},
   "outputs": [
    {
     "name": "stdout",
     "output_type": "stream",
     "text": [
      "Enter value of a: 1\n",
      "Enter value of b: 10\n",
      "Enter value of c: 2\n",
      "Determinant = 92\n",
      "{x1: x2} = {(-0.2041684766872809+0j) : (-9.79583152331272+0j)}\n"
     ]
    }
   ],
   "source": [
    "#2\n",
    "import cmath\n",
    "a = int(input(\"Enter value of a: \"))\n",
    "b = int(input(\"Enter value of b: \"))\n",
    "c = int(input(\"Enter value of c: \"))\n",
    "D = b**2 - (4 * a *c)\n",
    "print(f'Determinant = {D}')\n",
    "if D > 0:\n",
    "    x1 = (-b + cmath.sqrt(D))/ (2*a)\n",
    "    x2 = (-b - cmath.sqrt(D))/ (2*a)\n",
    "    print('''{x1: x2} = {'''+ f'{str(x1)} : {str(x2)}'+'}')\n",
    "elif D == 0:\n",
    "    print('''{x} = '''+ str((-b)/(2*a))\n",
    "elif D < 0:\n",
    "    print(\"Only complex roots!\")\n"
   ]
  },
  {
   "cell_type": "code",
   "execution_count": 7,
   "metadata": {
    "scrolled": true
   },
   "outputs": [
    {
     "name": "stdout",
     "output_type": "stream",
     "text": [
      "4\n",
      "3\n"
     ]
    }
   ],
   "source": [
    "#3\n",
    "def smaller(l, a, b):\n",
    "    n = 0\n",
    "    for i in range(0, a):\n",
    "        if l[i] < b:\n",
    "            n += 1\n",
    "    return n\n",
    "\n",
    "x = [13, 56, 21, 45, 20, 43, 12, 43, 6]\n",
    "\n",
    "print(smaller(x, 9, 21))\n",
    "print(smaller(x, 9, 20))\n"
   ]
  },
  {
   "cell_type": "code",
   "execution_count": 8,
   "metadata": {},
   "outputs": [
    {
     "name": "stdout",
     "output_type": "stream",
     "text": [
      "{35, 12, 155, 24, 88, 120}\n"
     ]
    }
   ],
   "source": [
    "#4\n",
    "x = [12,24,35,24,88,120,155,88,120,155]\n",
    "\n",
    "print(set(x))"
   ]
  },
  {
   "cell_type": "code",
   "execution_count": 9,
   "metadata": {},
   "outputs": [
    {
     "name": "stdout",
     "output_type": "stream",
     "text": [
      "[35]\n"
     ]
    }
   ],
   "source": [
    "#5\n",
    "l1 = [1,3,6,78,35,55] \n",
    "l2 = [12,24,35,24,88,120,155]\n",
    "l3 = list((set(l1).intersection(set(l2))))\n",
    "\n",
    "print(l3)"
   ]
  },
  {
   "cell_type": "code",
   "execution_count": 1,
   "metadata": {},
   "outputs": [
    {
     "name": "stdout",
     "output_type": "stream",
     "text": [
      "Enter weight in kg: 50\n",
      "Enter height in meter: 5\n",
      "BMI = 2.0\n"
     ]
    }
   ],
   "source": [
    "#6\n",
    "w = float(input(\"Enter weight in kg: \"))\n",
    "h = float(input(\"Enter height in meter: \"))\n",
    "bmi =  w / (h**2)\n",
    "print(f'BMI = {bmi}')"
   ]
  },
  {
   "cell_type": "code",
   "execution_count": 2,
   "metadata": {},
   "outputs": [
    {
     "name": "stdout",
     "output_type": "stream",
     "text": [
      "After 7 years = 5107238.170500001\n"
     ]
    }
   ],
   "source": [
    "#7\n",
    "growth_multiplier = 1.3\n",
    "sales = 15000\n",
    "\n",
    "for i in range(0, 7):\n",
    "    sales += sales * growth_multiplier\n",
    "\n",
    "print(f\"After 7 years = {sales}\")"
   ]
  },
  {
   "cell_type": "code",
   "execution_count": 3,
   "metadata": {},
   "outputs": [
    {
     "name": "stdout",
     "output_type": "stream",
     "text": [
      "Enter your weight in kg: 52\n",
      "Your weight in stone = 8.171428571428573\n"
     ]
    }
   ],
   "source": [
    "#8\n",
    "w = float(input(\"Enter your weight in kg: \"))\n",
    "mstone = (w * 2.2)/14\n",
    "print(f\"Your weight in stone = {mstone}\")"
   ]
  },
  {
   "cell_type": "code",
   "execution_count": 5,
   "metadata": {},
   "outputs": [
    {
     "name": "stdout",
     "output_type": "stream",
     "text": [
      "['hall 11.3', 'kitchen 6', 'bedroom 12.5']\n"
     ]
    }
   ],
   "source": [
    "#9 \n",
    "l1 = [\"hall\", \"kitchen\", \"bedroom\"]\n",
    "l2 = [\"11.3\", \"6\", \"12.5\"]\n",
    "l3 = []\n",
    "for i in range(0, len(l1)):\n",
    "    l3.append(l1[i] + \" \" + l2[i])\n",
    "print(l3)"
   ]
  },
  {
   "cell_type": "code",
   "execution_count": 6,
   "metadata": {},
   "outputs": [
    {
     "name": "stdout",
     "output_type": "stream",
     "text": [
      "Ali : 2.5\n",
      "Hamza : 3.0\n",
      "Noman : 3.4\n"
     ]
    }
   ],
   "source": [
    "#10\n",
    "score = [2.5, 3.0, 3.4]\n",
    "students = [\"Ali\", \"Hamza\", \"Noman\"]\n",
    "\n",
    "for i in range(0, len(students)):\n",
    "    print(f\"{students[i]} : {score[i]}\")"
   ]
  }
 ],
 "metadata": {
  "kernelspec": {
   "display_name": "Python 3",
   "language": "python",
   "name": "python3"
  },
  "language_info": {
   "codemirror_mode": {
    "name": "ipython",
    "version": 3
   },
   "file_extension": ".py",
   "mimetype": "text/x-python",
   "name": "python",
   "nbconvert_exporter": "python",
   "pygments_lexer": "ipython3",
   "version": "3.8.3"
  }
 },
 "nbformat": 4,
 "nbformat_minor": 4
}
