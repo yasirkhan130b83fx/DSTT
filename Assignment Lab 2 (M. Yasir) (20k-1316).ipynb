{
 "cells": [
  {
   "cell_type": "code",
   "execution_count": 1,
   "metadata": {},
   "outputs": [
    {
     "name": "stdout",
     "output_type": "stream",
     "text": [
      "   A    B  C\n",
      "0  1  2.0  3\n",
      "1  4  5.0  6\n",
      "4  2  NaN  5 \n",
      "        A  B  C\n",
      "2      2  5  6\n",
      "3  Hello  3  4\n"
     ]
    }
   ],
   "source": [
    "#2 a)\n",
    "import pandas as pd\n",
    "import csv\n",
    "\n",
    "df1 = pd.DataFrame({\"A\": [1,4,2], \"B\": [2.0, 5.0,float(\"NAN\")], \"C\": [3,6,5]}, index= [0, 1, 4])\n",
    "df2 = pd.DataFrame({\"A\": [2, \"Hello\"], \"B\": [5,3], \"C\": [6, 4]}, index= [2, 3])\n",
    "print(df1,\"\\n\", df2)"
   ]
  },
  {
   "cell_type": "code",
   "execution_count": 2,
   "metadata": {},
   "outputs": [
    {
     "name": "stdout",
     "output_type": "stream",
     "text": [
      "       A    B  C\n",
      "0      1  2.0  3\n",
      "1      4  5.0  6\n",
      "4      2  NaN  5\n",
      "2      2  5.0  6\n",
      "3  Hello  3.0  4\n"
     ]
    }
   ],
   "source": [
    "##2 b)\n",
    "df3= pd.concat([df1, df2], axis = 0)\n",
    "print(df3)"
   ]
  },
  {
   "cell_type": "code",
   "execution_count": 3,
   "metadata": {},
   "outputs": [
    {
     "name": "stdout",
     "output_type": "stream",
     "text": [
      "     D    E\n",
      "0  NaN  NaN\n",
      "1  1.0  7.0\n",
      "2  NaN  NaN\n",
      "3  NaN  NaN\n",
      "4  0.0  8.0\n"
     ]
    }
   ],
   "source": [
    "#2 c)\n",
    "df4 = pd.DataFrame({\"D\": [float(\"NAN\"),1.0,float(\"NAN\"),float(\"NAN\"),0.0],\"E\": [float(\"NAN\"), 7.0, float(\"NAN\"), float(\"NAN\"), 8.0]}, index= [0, 1, 2, 3, 4])\n",
    "print(df4)"
   ]
  },
  {
   "cell_type": "code",
   "execution_count": 4,
   "metadata": {},
   "outputs": [
    {
     "name": "stdout",
     "output_type": "stream",
     "text": [
      "       A    B  C    D    E\n",
      "0      1  2.0  3  NaN  NaN\n",
      "1      4  5.0  6  1.0  7.0\n",
      "2      2  5.0  6  NaN  NaN\n",
      "3  Hello  3.0  4  NaN  NaN\n",
      "4      2  NaN  5  0.0  8.0\n"
     ]
    }
   ],
   "source": [
    "#2 c)\n",
    "df5= pd.concat([df3, df4], axis = 1, sort=True)\n",
    "print(df5)"
   ]
  },
  {
   "cell_type": "code",
   "execution_count": 5,
   "metadata": {},
   "outputs": [
    {
     "name": "stdout",
     "output_type": "stream",
     "text": [
      "    A    B   C   D   E\n",
      "5  11  9.0 NaN NaN NaN\n",
      "6  22  7.0 NaN NaN NaN\n",
      "7  33  8.0 NaN NaN NaN\n"
     ]
    }
   ],
   "source": [
    "#2 d)\n",
    "df6 = pd.DataFrame({\"A\": [11,22,33], \"B\": [9.0, 7.0,8.0], \"C\": [float(\"NAN\"),float(\"NAN\"),float(\"NAN\")], \"D\": [float(\"NAN\"),float(\"NAN\"),float(\"NAN\")], \"E\": [float(\"NAN\"),float(\"NAN\"),float(\"NAN\")]}, index= [5, 6, 7])\n",
    "print(df6)"
   ]
  },
  {
   "cell_type": "code",
   "execution_count": 6,
   "metadata": {},
   "outputs": [
    {
     "name": "stdout",
     "output_type": "stream",
     "text": [
      "       A    B    C    D    E\n",
      "0      1  2.0  3.0  NaN  NaN\n",
      "1      4  5.0  6.0  1.0  7.0\n",
      "2      2  5.0  6.0  NaN  NaN\n",
      "3  Hello  3.0  4.0  NaN  NaN\n",
      "4      2  NaN  5.0  0.0  8.0\n",
      "5     11  9.0  NaN  NaN  NaN\n",
      "6     22  7.0  NaN  NaN  NaN\n",
      "7     33  8.0  NaN  NaN  NaN\n"
     ]
    }
   ],
   "source": [
    "#2 d)\n",
    "df7 = pd.concat([df5, df6], axis = 0, sort=True)\n",
    "print(df7)"
   ]
  },
  {
   "cell_type": "code",
   "execution_count": 7,
   "metadata": {},
   "outputs": [
    {
     "name": "stdout",
     "output_type": "stream",
     "text": [
      "      A    B    C    D    E\n",
      "0   1.0  2.0  3.0  NaN  NaN\n",
      "1   4.0  5.0  6.0  1.0  7.0\n",
      "2   2.0  5.0  6.0  NaN  NaN\n",
      "3   NaN  3.0  4.0  NaN  NaN\n",
      "4   2.0  NaN  5.0  0.0  8.0\n",
      "5  11.0  9.0  NaN  NaN  NaN\n",
      "6  22.0  7.0  NaN  NaN  NaN\n",
      "7  33.0  8.0  NaN  NaN  NaN\n"
     ]
    }
   ],
   "source": [
    "#2 e)\n",
    "df7.replace(to_replace = \"[\\s\\S]*\", value=float(\"NAN\"), regex=True, inplace=True)\n",
    "print(df7)"
   ]
  },
  {
   "cell_type": "code",
   "execution_count": 8,
   "metadata": {},
   "outputs": [
    {
     "name": "stdout",
     "output_type": "stream",
     "text": [
      "       A      B      C      D      E\n",
      "0  False  False  False   True   True\n",
      "1  False  False  False  False  False\n",
      "2  False  False  False   True   True\n",
      "3   True  False  False   True   True\n",
      "4  False   True  False  False  False\n",
      "5  False  False   True   True   True\n",
      "6  False  False   True   True   True\n",
      "7  False  False   True   True   True\n",
      "A    10.714286\n",
      "B     5.571429\n",
      "C     4.800000\n",
      "D     0.500000\n",
      "E     7.500000\n",
      "dtype: float64\n"
     ]
    }
   ],
   "source": [
    "#2 f)\n",
    "print(df7.isnull())\n",
    "print(df7.mean())"
   ]
  },
  {
   "cell_type": "code",
   "execution_count": 9,
   "metadata": {},
   "outputs": [
    {
     "name": "stdout",
     "output_type": "stream",
     "text": [
      "           A         B    C    D    E\n",
      "0   1.000000  2.000000  3.0  0.5  7.5\n",
      "1   4.000000  5.000000  6.0  1.0  7.0\n",
      "2   2.000000  5.000000  6.0  0.5  7.5\n",
      "3  10.714286  3.000000  4.0  0.5  7.5\n",
      "4   2.000000  5.571429  5.0  0.0  8.0\n",
      "5  11.000000  9.000000  4.8  0.5  7.5\n",
      "6  22.000000  7.000000  4.8  0.5  7.5\n",
      "7  33.000000  8.000000  4.8  0.5  7.5\n"
     ]
    }
   ],
   "source": [
    "#2 f)\n",
    "df8 = df7.fillna(df7.mean())\n",
    "print(df8)\n",
    "df8.to_csv(\"newdata.csv\")"
   ]
  },
  {
   "cell_type": "code",
   "execution_count": 10,
   "metadata": {},
   "outputs": [
    {
     "name": "stdout",
     "output_type": "stream",
     "text": [
      "    cities provinces\n",
      "0   lahore    punjab\n",
      "1  karachi     sindh\n"
     ]
    }
   ],
   "source": [
    "#5\n",
    "import pandas as pd\n",
    "data = {'cities' : ['lahore','karachi',], 'provinces' : ['punjab','sindh']}\n",
    "frame1 = pd.DataFrame(data)\n",
    "print(frame1)"
   ]
  },
  {
   "cell_type": "code",
   "execution_count": 11,
   "metadata": {},
   "outputs": [
    {
     "name": "stdout",
     "output_type": "stream",
     "text": [
      "      cities    provinces\n",
      "0     lahore       punjab\n",
      "1    karachi        sindh\n",
      "0  islamabad      capital\n",
      "1    karachi        sindh\n",
      "2   peshawar          KPK\n",
      "3     quetta  Balochistan\n"
     ]
    }
   ],
   "source": [
    "#5\n",
    "data2 = {\"cities\": [\"islamabad\",\"karachi\",\"peshawar\",\"quetta\"],\n",
    "  \"provinces\": [\"capital\",\"sindh\", \"KPK\",\"Balochistan\"]}\n",
    "\n",
    "frame2 = pd.DataFrame(data2)\n",
    "frame3 = pd.concat(\n",
    "    [frame1,frame2],\n",
    ")\n",
    "\n",
    "print(frame3)"
   ]
  },
  {
   "cell_type": "code",
   "execution_count": 12,
   "metadata": {},
   "outputs": [
    {
     "name": "stdout",
     "output_type": "stream",
     "text": [
      "      cities    provinces\n",
      "0     lahore       punjab\n",
      "1    karachi        sindh\n",
      "0  islamabad      capital\n",
      "2   peshawar          KPK\n",
      "3     quetta  Balochistan\n"
     ]
    }
   ],
   "source": [
    "#5\n",
    "frame3.drop_duplicates(inplace=True)\n",
    "print(frame3)"
   ]
  },
  {
   "cell_type": "code",
   "execution_count": 13,
   "metadata": {},
   "outputs": [
    {
     "name": "stdout",
     "output_type": "stream",
     "text": [
      "      cities    provinces\n",
      "3     quetta  Balochistan\n",
      "2   peshawar          KPK\n",
      "0  islamabad      capital\n",
      "0     lahore       punjab\n",
      "1    karachi        sindh\n"
     ]
    }
   ],
   "source": [
    "#5\n",
    "frame3 = frame3.sort_values('provinces')\n",
    "print(frame3)"
   ]
  },
  {
   "cell_type": "code",
   "execution_count": 14,
   "metadata": {},
   "outputs": [
    {
     "name": "stdout",
     "output_type": "stream",
     "text": [
      "      cities    provinces\n",
      "0     quetta  Balochistan\n",
      "1   peshawar          KPK\n",
      "2  islamabad      capital\n",
      "3     lahore       punjab\n",
      "4    karachi        sindh\n"
     ]
    }
   ],
   "source": [
    "#5\n",
    "frame3.reset_index(drop=True, inplace=True,)\n",
    "print(frame3)"
   ]
  },
  {
   "cell_type": "code",
   "execution_count": null,
   "metadata": {},
   "outputs": [],
   "source": []
  }
 ],
 "metadata": {
  "kernelspec": {
   "display_name": "Python 3",
   "language": "python",
   "name": "python3"
  },
  "language_info": {
   "codemirror_mode": {
    "name": "ipython",
    "version": 3
   },
   "file_extension": ".py",
   "mimetype": "text/x-python",
   "name": "python",
   "nbconvert_exporter": "python",
   "pygments_lexer": "ipython3",
   "version": "3.8.3"
  }
 },
 "nbformat": 4,
 "nbformat_minor": 4
}
