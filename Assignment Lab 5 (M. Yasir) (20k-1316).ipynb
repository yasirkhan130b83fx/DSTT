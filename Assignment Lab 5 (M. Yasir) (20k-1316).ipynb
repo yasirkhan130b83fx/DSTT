{
 "cells": [
  {
   "cell_type": "code",
   "execution_count": 82,
   "metadata": {},
   "outputs": [
    {
     "name": "stdout",
     "output_type": "stream",
     "text": [
      "   A    B  C\n",
      "0  1  2.0  3\n",
      "1  4  5.0  6\n",
      "4  2  NaN  5 \n",
      "        A  B  C\n",
      "2      2  5  6\n",
      "3  Hello  3  4\n"
     ]
    }
   ],
   "source": [
    "import pandas as pd\n",
    "import csv\n",
    "\n",
    "df1 = pd.DataFrame({\"A\": [1,4,2], \"B\": [2.0, 5.0,float(\"NAN\")], \"C\": [3,6,5]}, index= [0, 1, 4])\n",
    "df2 = pd.DataFrame({\"A\": [2, \"Hello\"], \"B\": [5,3], \"C\": [6, 4]}, index= [2, 3])\n",
    "print(df1,\"\\n\", df2)"
   ]
  },
  {
   "cell_type": "code",
   "execution_count": 83,
   "metadata": {},
   "outputs": [
    {
     "name": "stdout",
     "output_type": "stream",
     "text": [
      "       A    B  C\n",
      "0      1  2.0  3\n",
      "1      4  5.0  6\n",
      "4      2  NaN  5\n",
      "2      2  5.0  6\n",
      "3  Hello  3.0  4\n"
     ]
    }
   ],
   "source": [
    "df3= pd.concat([df1, df2], axis = 0)\n",
    "print(df3)"
   ]
  },
  {
   "cell_type": "code",
   "execution_count": 84,
   "metadata": {},
   "outputs": [
    {
     "name": "stdout",
     "output_type": "stream",
     "text": [
      "     D    E\n",
      "0  NaN  NaN\n",
      "1  1.0  7.0\n",
      "2  NaN  NaN\n",
      "3  NaN  NaN\n",
      "4  0.0  8.0\n"
     ]
    }
   ],
   "source": [
    "df4 = pd.DataFrame({\"D\": [float(\"NAN\"),1.0,float(\"NAN\"),float(\"NAN\"),0.0],\"E\": [float(\"NAN\"), 7.0, float(\"NAN\"), float(\"NAN\"), 8.0]}, index= [0, 1, 2, 3, 4])\n",
    "print(df4)"
   ]
  },
  {
   "cell_type": "code",
   "execution_count": 85,
   "metadata": {},
   "outputs": [
    {
     "name": "stdout",
     "output_type": "stream",
     "text": [
      "       A    B  C    D    E\n",
      "0      1  2.0  3  NaN  NaN\n",
      "1      4  5.0  6  1.0  7.0\n",
      "2      2  5.0  6  NaN  NaN\n",
      "3  Hello  3.0  4  NaN  NaN\n",
      "4      2  NaN  5  0.0  8.0\n"
     ]
    }
   ],
   "source": [
    "df5= pd.concat([df3, df4], axis = 1, sort=True)\n",
    "print(df5)"
   ]
  },
  {
   "cell_type": "code",
   "execution_count": 86,
   "metadata": {},
   "outputs": [
    {
     "name": "stdout",
     "output_type": "stream",
     "text": [
      "    A    B   C   D   E\n",
      "5  11  9.0 NaN NaN NaN\n",
      "6  22  7.0 NaN NaN NaN\n",
      "7  33  8.0 NaN NaN NaN\n"
     ]
    }
   ],
   "source": [
    "df6 = pd.DataFrame({\"A\": [11,22,33], \"B\": [9.0, 7.0,8.0], \"C\": [float(\"NAN\"),float(\"NAN\"),float(\"NAN\")], \"D\": [float(\"NAN\"),float(\"NAN\"),float(\"NAN\")], \"E\": [float(\"NAN\"),float(\"NAN\"),float(\"NAN\")]}, index= [5, 6, 7])\n",
    "print(df6)"
   ]
  },
  {
   "cell_type": "code",
   "execution_count": 87,
   "metadata": {},
   "outputs": [
    {
     "name": "stdout",
     "output_type": "stream",
     "text": [
      "       A    B    C    D    E\n",
      "0      1  2.0  3.0  NaN  NaN\n",
      "1      4  5.0  6.0  1.0  7.0\n",
      "2      2  5.0  6.0  NaN  NaN\n",
      "3  Hello  3.0  4.0  NaN  NaN\n",
      "4      2  NaN  5.0  0.0  8.0\n",
      "5     11  9.0  NaN  NaN  NaN\n",
      "6     22  7.0  NaN  NaN  NaN\n",
      "7     33  8.0  NaN  NaN  NaN\n"
     ]
    }
   ],
   "source": [
    "df7 = pd.concat([df5, df6], axis = 0, sort=True)\n",
    "print(df7)"
   ]
  },
  {
   "cell_type": "code",
   "execution_count": 88,
   "metadata": {},
   "outputs": [
    {
     "name": "stdout",
     "output_type": "stream",
     "text": [
      "      A    B    C    D    E\n",
      "0   1.0  2.0  3.0  NaN  NaN\n",
      "1   4.0  5.0  6.0  1.0  7.0\n",
      "2   2.0  5.0  6.0  NaN  NaN\n",
      "3   NaN  3.0  4.0  NaN  NaN\n",
      "4   2.0  NaN  5.0  0.0  8.0\n",
      "5  11.0  9.0  NaN  NaN  NaN\n",
      "6  22.0  7.0  NaN  NaN  NaN\n",
      "7  33.0  8.0  NaN  NaN  NaN\n"
     ]
    }
   ],
   "source": [
    "df7.replace(to_replace = \"[\\s\\S]*\", value=float(\"NAN\"), regex=True, inplace=True)\n",
    "print(df7)"
   ]
  },
  {
   "cell_type": "code",
   "execution_count": 89,
   "metadata": {},
   "outputs": [
    {
     "name": "stdout",
     "output_type": "stream",
     "text": [
      "       A      B      C      D      E\n",
      "0  False  False  False   True   True\n",
      "1  False  False  False  False  False\n",
      "2  False  False  False   True   True\n",
      "3   True  False  False   True   True\n",
      "4  False   True  False  False  False\n",
      "5  False  False   True   True   True\n",
      "6  False  False   True   True   True\n",
      "7  False  False   True   True   True\n",
      "A    10.714286\n",
      "B     5.571429\n",
      "C     4.800000\n",
      "D     0.500000\n",
      "E     7.500000\n",
      "dtype: float64\n"
     ]
    }
   ],
   "source": [
    "print(df7.isnull())\n",
    "print(df7.mean())"
   ]
  },
  {
   "cell_type": "code",
   "execution_count": 90,
   "metadata": {},
   "outputs": [
    {
     "name": "stdout",
     "output_type": "stream",
     "text": [
      "           A         B    C    D    E\n",
      "0   1.000000  2.000000  3.0  0.5  7.5\n",
      "1   4.000000  5.000000  6.0  1.0  7.0\n",
      "2   2.000000  5.000000  6.0  0.5  7.5\n",
      "3  10.714286  3.000000  4.0  0.5  7.5\n",
      "4   2.000000  5.571429  5.0  0.0  8.0\n",
      "5  11.000000  9.000000  4.8  0.5  7.5\n",
      "6  22.000000  7.000000  4.8  0.5  7.5\n",
      "7  33.000000  8.000000  4.8  0.5  7.5\n"
     ]
    }
   ],
   "source": [
    "print(df7.fillna(df7.mean()))"
   ]
  },
  {
   "cell_type": "code",
   "execution_count": null,
   "metadata": {},
   "outputs": [],
   "source": []
  }
 ],
 "metadata": {
  "kernelspec": {
   "display_name": "Python 3",
   "language": "python",
   "name": "python3"
  },
  "language_info": {
   "codemirror_mode": {
    "name": "ipython",
    "version": 3
   },
   "file_extension": ".py",
   "mimetype": "text/x-python",
   "name": "python",
   "nbconvert_exporter": "python",
   "pygments_lexer": "ipython3",
   "version": "3.8.3"
  }
 },
 "nbformat": 4,
 "nbformat_minor": 4
}
